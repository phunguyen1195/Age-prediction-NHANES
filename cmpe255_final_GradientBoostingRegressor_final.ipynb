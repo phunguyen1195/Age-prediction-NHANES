{
 "cells": [
  {
   "cell_type": "code",
   "execution_count": 12,
   "id": "functional-seafood",
   "metadata": {},
   "outputs": [],
   "source": [
    "import pandas as pd\n",
    "import scipy\n",
    "import numpy as np\n",
    "import matplotlib.pyplot as plt\n",
    "import seaborn as sns\n",
    "import zipfile\n",
    "import time\n",
    "from sklearn.ensemble import GradientBoostingRegressor\n",
    "from sklearn.model_selection import RandomizedSearchCV\n",
    "from yellowbrick.regressor import PredictionError\n",
    "from yellowbrick.regressor import ResidualsPlot"
   ]
  },
  {
   "cell_type": "code",
   "execution_count": 13,
   "id": "absent-plain",
   "metadata": {},
   "outputs": [],
   "source": [
    "df = pd.read_csv(\"final_unprocessed_data.csv\")"
   ]
  },
  {
   "cell_type": "code",
   "execution_count": 14,
   "id": "framed-granny",
   "metadata": {},
   "outputs": [
    {
     "data": {
      "text/html": [
       "<div>\n",
       "<style scoped>\n",
       "    .dataframe tbody tr th:only-of-type {\n",
       "        vertical-align: middle;\n",
       "    }\n",
       "\n",
       "    .dataframe tbody tr th {\n",
       "        vertical-align: top;\n",
       "    }\n",
       "\n",
       "    .dataframe thead th {\n",
       "        text-align: right;\n",
       "    }\n",
       "</style>\n",
       "<table border=\"1\" class=\"dataframe\">\n",
       "  <thead>\n",
       "    <tr style=\"text-align: right;\">\n",
       "      <th></th>\n",
       "      <th>LBXTR</th>\n",
       "      <th>SEQN</th>\n",
       "      <th>LBXTC</th>\n",
       "      <th>LBXBAPCT</th>\n",
       "      <th>LBXHGB</th>\n",
       "      <th>LBXPLTSI</th>\n",
       "      <th>LBXRDW</th>\n",
       "      <th>LBXMC</th>\n",
       "      <th>LBXRBCSI</th>\n",
       "      <th>LBXMPSI</th>\n",
       "      <th>...</th>\n",
       "      <th>LBXT4</th>\n",
       "      <th>LBXPCT</th>\n",
       "      <th>LBXHP1</th>\n",
       "      <th>LBXLA</th>\n",
       "      <th>LBXLACL</th>\n",
       "      <th>LBXTBA</th>\n",
       "      <th>LBXTBM</th>\n",
       "      <th>LBXTBIN</th>\n",
       "      <th>LBXTBN</th>\n",
       "      <th>RIDAGEYR</th>\n",
       "    </tr>\n",
       "  </thead>\n",
       "  <tbody>\n",
       "    <tr>\n",
       "      <th>0</th>\n",
       "      <td>40.0</td>\n",
       "      <td>109264.0</td>\n",
       "      <td>166.0</td>\n",
       "      <td>0.5</td>\n",
       "      <td>13.7</td>\n",
       "      <td>263.0</td>\n",
       "      <td>13.1</td>\n",
       "      <td>33.7</td>\n",
       "      <td>4.80</td>\n",
       "      <td>8.2</td>\n",
       "      <td>...</td>\n",
       "      <td>NaN</td>\n",
       "      <td>NaN</td>\n",
       "      <td>NaN</td>\n",
       "      <td>NaN</td>\n",
       "      <td>NaN</td>\n",
       "      <td>NaN</td>\n",
       "      <td>NaN</td>\n",
       "      <td>NaN</td>\n",
       "      <td>NaN</td>\n",
       "      <td>13.0</td>\n",
       "    </tr>\n",
       "    <tr>\n",
       "      <th>1</th>\n",
       "      <td>84.0</td>\n",
       "      <td>109271.0</td>\n",
       "      <td>147.0</td>\n",
       "      <td>1.0</td>\n",
       "      <td>15.3</td>\n",
       "      <td>254.0</td>\n",
       "      <td>13.7</td>\n",
       "      <td>34.4</td>\n",
       "      <td>4.54</td>\n",
       "      <td>7.1</td>\n",
       "      <td>...</td>\n",
       "      <td>NaN</td>\n",
       "      <td>NaN</td>\n",
       "      <td>NaN</td>\n",
       "      <td>NaN</td>\n",
       "      <td>NaN</td>\n",
       "      <td>NaN</td>\n",
       "      <td>NaN</td>\n",
       "      <td>NaN</td>\n",
       "      <td>NaN</td>\n",
       "      <td>49.0</td>\n",
       "    </tr>\n",
       "    <tr>\n",
       "      <th>2</th>\n",
       "      <td>133.0</td>\n",
       "      <td>109274.0</td>\n",
       "      <td>105.0</td>\n",
       "      <td>0.8</td>\n",
       "      <td>13.9</td>\n",
       "      <td>173.0</td>\n",
       "      <td>13.9</td>\n",
       "      <td>33.6</td>\n",
       "      <td>4.47</td>\n",
       "      <td>8.0</td>\n",
       "      <td>...</td>\n",
       "      <td>NaN</td>\n",
       "      <td>NaN</td>\n",
       "      <td>NaN</td>\n",
       "      <td>NaN</td>\n",
       "      <td>NaN</td>\n",
       "      <td>NaN</td>\n",
       "      <td>NaN</td>\n",
       "      <td>NaN</td>\n",
       "      <td>NaN</td>\n",
       "      <td>68.0</td>\n",
       "    </tr>\n",
       "    <tr>\n",
       "      <th>3</th>\n",
       "      <td>24.0</td>\n",
       "      <td>109277.0</td>\n",
       "      <td>129.0</td>\n",
       "      <td>0.4</td>\n",
       "      <td>12.9</td>\n",
       "      <td>224.0</td>\n",
       "      <td>13.3</td>\n",
       "      <td>33.4</td>\n",
       "      <td>4.41</td>\n",
       "      <td>8.5</td>\n",
       "      <td>...</td>\n",
       "      <td>NaN</td>\n",
       "      <td>NaN</td>\n",
       "      <td>NaN</td>\n",
       "      <td>NaN</td>\n",
       "      <td>NaN</td>\n",
       "      <td>NaN</td>\n",
       "      <td>NaN</td>\n",
       "      <td>NaN</td>\n",
       "      <td>NaN</td>\n",
       "      <td>12.0</td>\n",
       "    </tr>\n",
       "    <tr>\n",
       "      <th>4</th>\n",
       "      <td>132.0</td>\n",
       "      <td>109282.0</td>\n",
       "      <td>233.0</td>\n",
       "      <td>1.2</td>\n",
       "      <td>12.9</td>\n",
       "      <td>154.0</td>\n",
       "      <td>14.5</td>\n",
       "      <td>33.9</td>\n",
       "      <td>4.16</td>\n",
       "      <td>7.7</td>\n",
       "      <td>...</td>\n",
       "      <td>NaN</td>\n",
       "      <td>NaN</td>\n",
       "      <td>NaN</td>\n",
       "      <td>NaN</td>\n",
       "      <td>NaN</td>\n",
       "      <td>NaN</td>\n",
       "      <td>NaN</td>\n",
       "      <td>NaN</td>\n",
       "      <td>NaN</td>\n",
       "      <td>76.0</td>\n",
       "    </tr>\n",
       "    <tr>\n",
       "      <th>...</th>\n",
       "      <td>...</td>\n",
       "      <td>...</td>\n",
       "      <td>...</td>\n",
       "      <td>...</td>\n",
       "      <td>...</td>\n",
       "      <td>...</td>\n",
       "      <td>...</td>\n",
       "      <td>...</td>\n",
       "      <td>...</td>\n",
       "      <td>...</td>\n",
       "      <td>...</td>\n",
       "      <td>...</td>\n",
       "      <td>...</td>\n",
       "      <td>...</td>\n",
       "      <td>...</td>\n",
       "      <td>...</td>\n",
       "      <td>...</td>\n",
       "      <td>...</td>\n",
       "      <td>...</td>\n",
       "      <td>...</td>\n",
       "      <td>...</td>\n",
       "    </tr>\n",
       "    <tr>\n",
       "      <th>106198</th>\n",
       "      <td>NaN</td>\n",
       "      <td>102936.0</td>\n",
       "      <td>NaN</td>\n",
       "      <td>NaN</td>\n",
       "      <td>NaN</td>\n",
       "      <td>NaN</td>\n",
       "      <td>NaN</td>\n",
       "      <td>NaN</td>\n",
       "      <td>NaN</td>\n",
       "      <td>NaN</td>\n",
       "      <td>...</td>\n",
       "      <td>NaN</td>\n",
       "      <td>NaN</td>\n",
       "      <td>NaN</td>\n",
       "      <td>NaN</td>\n",
       "      <td>NaN</td>\n",
       "      <td>NaN</td>\n",
       "      <td>NaN</td>\n",
       "      <td>NaN</td>\n",
       "      <td>NaN</td>\n",
       "      <td>1.0</td>\n",
       "    </tr>\n",
       "    <tr>\n",
       "      <th>106199</th>\n",
       "      <td>NaN</td>\n",
       "      <td>102937.0</td>\n",
       "      <td>NaN</td>\n",
       "      <td>0.7</td>\n",
       "      <td>12.6</td>\n",
       "      <td>390.0</td>\n",
       "      <td>13.7</td>\n",
       "      <td>33.4</td>\n",
       "      <td>4.56</td>\n",
       "      <td>5.9</td>\n",
       "      <td>...</td>\n",
       "      <td>NaN</td>\n",
       "      <td>NaN</td>\n",
       "      <td>NaN</td>\n",
       "      <td>NaN</td>\n",
       "      <td>NaN</td>\n",
       "      <td>NaN</td>\n",
       "      <td>NaN</td>\n",
       "      <td>NaN</td>\n",
       "      <td>NaN</td>\n",
       "      <td>4.0</td>\n",
       "    </tr>\n",
       "    <tr>\n",
       "      <th>106200</th>\n",
       "      <td>NaN</td>\n",
       "      <td>102938.0</td>\n",
       "      <td>NaN</td>\n",
       "      <td>0.8</td>\n",
       "      <td>13.1</td>\n",
       "      <td>357.0</td>\n",
       "      <td>12.8</td>\n",
       "      <td>33.8</td>\n",
       "      <td>4.74</td>\n",
       "      <td>5.9</td>\n",
       "      <td>...</td>\n",
       "      <td>NaN</td>\n",
       "      <td>NaN</td>\n",
       "      <td>NaN</td>\n",
       "      <td>NaN</td>\n",
       "      <td>NaN</td>\n",
       "      <td>NaN</td>\n",
       "      <td>NaN</td>\n",
       "      <td>NaN</td>\n",
       "      <td>NaN</td>\n",
       "      <td>5.0</td>\n",
       "    </tr>\n",
       "    <tr>\n",
       "      <th>106201</th>\n",
       "      <td>NaN</td>\n",
       "      <td>102939.0</td>\n",
       "      <td>NaN</td>\n",
       "      <td>NaN</td>\n",
       "      <td>NaN</td>\n",
       "      <td>NaN</td>\n",
       "      <td>NaN</td>\n",
       "      <td>NaN</td>\n",
       "      <td>NaN</td>\n",
       "      <td>NaN</td>\n",
       "      <td>...</td>\n",
       "      <td>NaN</td>\n",
       "      <td>NaN</td>\n",
       "      <td>NaN</td>\n",
       "      <td>NaN</td>\n",
       "      <td>NaN</td>\n",
       "      <td>NaN</td>\n",
       "      <td>NaN</td>\n",
       "      <td>NaN</td>\n",
       "      <td>NaN</td>\n",
       "      <td>2.0</td>\n",
       "    </tr>\n",
       "    <tr>\n",
       "      <th>106202</th>\n",
       "      <td>NaN</td>\n",
       "      <td>102951.0</td>\n",
       "      <td>NaN</td>\n",
       "      <td>0.7</td>\n",
       "      <td>11.9</td>\n",
       "      <td>273.0</td>\n",
       "      <td>13.8</td>\n",
       "      <td>33.3</td>\n",
       "      <td>4.85</td>\n",
       "      <td>8.1</td>\n",
       "      <td>...</td>\n",
       "      <td>NaN</td>\n",
       "      <td>NaN</td>\n",
       "      <td>NaN</td>\n",
       "      <td>NaN</td>\n",
       "      <td>NaN</td>\n",
       "      <td>NaN</td>\n",
       "      <td>NaN</td>\n",
       "      <td>NaN</td>\n",
       "      <td>NaN</td>\n",
       "      <td>4.0</td>\n",
       "    </tr>\n",
       "  </tbody>\n",
       "</table>\n",
       "<p>106203 rows × 402 columns</p>\n",
       "</div>"
      ],
      "text/plain": [
       "        LBXTR      SEQN  LBXTC  LBXBAPCT  LBXHGB  LBXPLTSI  LBXRDW  LBXMC  \\\n",
       "0        40.0  109264.0  166.0       0.5    13.7     263.0    13.1   33.7   \n",
       "1        84.0  109271.0  147.0       1.0    15.3     254.0    13.7   34.4   \n",
       "2       133.0  109274.0  105.0       0.8    13.9     173.0    13.9   33.6   \n",
       "3        24.0  109277.0  129.0       0.4    12.9     224.0    13.3   33.4   \n",
       "4       132.0  109282.0  233.0       1.2    12.9     154.0    14.5   33.9   \n",
       "...       ...       ...    ...       ...     ...       ...     ...    ...   \n",
       "106198    NaN  102936.0    NaN       NaN     NaN       NaN     NaN    NaN   \n",
       "106199    NaN  102937.0    NaN       0.7    12.6     390.0    13.7   33.4   \n",
       "106200    NaN  102938.0    NaN       0.8    13.1     357.0    12.8   33.8   \n",
       "106201    NaN  102939.0    NaN       NaN     NaN       NaN     NaN    NaN   \n",
       "106202    NaN  102951.0    NaN       0.7    11.9     273.0    13.8   33.3   \n",
       "\n",
       "        LBXRBCSI  LBXMPSI  ...  LBXT4  LBXPCT  LBXHP1  LBXLA  LBXLACL  LBXTBA  \\\n",
       "0           4.80      8.2  ...    NaN     NaN     NaN    NaN      NaN     NaN   \n",
       "1           4.54      7.1  ...    NaN     NaN     NaN    NaN      NaN     NaN   \n",
       "2           4.47      8.0  ...    NaN     NaN     NaN    NaN      NaN     NaN   \n",
       "3           4.41      8.5  ...    NaN     NaN     NaN    NaN      NaN     NaN   \n",
       "4           4.16      7.7  ...    NaN     NaN     NaN    NaN      NaN     NaN   \n",
       "...          ...      ...  ...    ...     ...     ...    ...      ...     ...   \n",
       "106198       NaN      NaN  ...    NaN     NaN     NaN    NaN      NaN     NaN   \n",
       "106199      4.56      5.9  ...    NaN     NaN     NaN    NaN      NaN     NaN   \n",
       "106200      4.74      5.9  ...    NaN     NaN     NaN    NaN      NaN     NaN   \n",
       "106201       NaN      NaN  ...    NaN     NaN     NaN    NaN      NaN     NaN   \n",
       "106202      4.85      8.1  ...    NaN     NaN     NaN    NaN      NaN     NaN   \n",
       "\n",
       "        LBXTBM  LBXTBIN  LBXTBN  RIDAGEYR  \n",
       "0          NaN      NaN     NaN      13.0  \n",
       "1          NaN      NaN     NaN      49.0  \n",
       "2          NaN      NaN     NaN      68.0  \n",
       "3          NaN      NaN     NaN      12.0  \n",
       "4          NaN      NaN     NaN      76.0  \n",
       "...        ...      ...     ...       ...  \n",
       "106198     NaN      NaN     NaN       1.0  \n",
       "106199     NaN      NaN     NaN       4.0  \n",
       "106200     NaN      NaN     NaN       5.0  \n",
       "106201     NaN      NaN     NaN       2.0  \n",
       "106202     NaN      NaN     NaN       4.0  \n",
       "\n",
       "[106203 rows x 402 columns]"
      ]
     },
     "execution_count": 14,
     "metadata": {},
     "output_type": "execute_result"
    }
   ],
   "source": [
    "df"
   ]
  },
  {
   "cell_type": "code",
   "execution_count": 15,
   "id": "mechanical-pioneer",
   "metadata": {},
   "outputs": [],
   "source": [
    "cohort = df[(df.RIDAGEYR >= 1) & (df.RIDAGEYR <= 85)]"
   ]
  },
  {
   "cell_type": "code",
   "execution_count": 16,
   "id": "green-toilet",
   "metadata": {},
   "outputs": [],
   "source": [
    "thresh = len(cohort) * 0.05\n",
    "cohort = cohort.dropna(thresh=thresh, axis = 1)\n",
    "thresh2 = 20\n",
    "cohort = cohort.dropna(thresh=thresh2, axis=0)"
   ]
  },
  {
   "cell_type": "code",
   "execution_count": 17,
   "id": "realistic-headquarters",
   "metadata": {},
   "outputs": [
    {
     "data": {
      "image/png": "[encoded data removed]",
      "text/plain": [
       "<Figure size 360x360 with 1 Axes>"
      ]
     },
     "metadata": {},
     "output_type": "display_data"
    }
   ],
   "source": [
    "sns.displot(cohort, x=\"RIDAGEYR\", kde=True)\n",
    "plt.title(\"Age Distribution\")\n",
    "plt.tight_layout()\n",
    "plt.savefig('RIDAGEYR_distribution.png')"
   ]
  },
  {
   "cell_type": "code",
   "execution_count": 18,
   "id": "distant-conference",
   "metadata": {},
   "outputs": [],
   "source": [
    "from sklearn.model_selection import train_test_split\n",
    "y = cohort[\"RIDAGEYR\"]\n",
    "X = cohort.drop(columns=[\"RIDAGEYR\"])\n",
    "\n",
    "X_train, X_test, y_train, y_test = train_test_split(X, y, test_size=0.2, random_state=42)"
   ]
  },
  {
   "cell_type": "code",
   "execution_count": 19,
   "id": "equal-commission",
   "metadata": {},
   "outputs": [],
   "source": [
    "from sklearn.impute import SimpleImputer\n",
    "from sklearn.pipeline import Pipeline\n",
    "from sklearn.preprocessing import StandardScaler\n",
    "\n",
    "my_pipeline = Pipeline([\n",
    "    ('imputer', SimpleImputer(strategy=\"mean\")),\n",
    "    ('std_scaler', StandardScaler())\n",
    "])\n",
    "X_train = my_pipeline.fit_transform(X_train)\n",
    "X_train = pd.DataFrame(X_train)\n",
    "X_test = my_pipeline.transform(X_test)"
   ]
  },
  {
   "cell_type": "code",
   "execution_count": 20,
   "id": "duplicate-polyester",
   "metadata": {},
   "outputs": [],
   "source": [
    "def display_scores(scores):\n",
    "    print(\"Scores:\", scores)\n",
    "    print(\"Mean:\", scores.mean())\n",
    "    print(\"stdv:\", scores.std())\n"
   ]
  },
  {
   "cell_type": "code",
   "execution_count": 21,
   "id": "preliminary-indonesia",
   "metadata": {
    "collapsed": true
   },
   "outputs": [
    {
     "name": "stderr",
     "output_type": "stream",
     "text": [
      "/home/phu-nguyen/anaconda3/envs/matsci/lib/python3.9/site-packages/sklearn/model_selection/_search.py:292: UserWarning: The total space of parameters 1 is smaller than n_iter=5. Running 1 iterations. For exhaustive searches, use GridSearchCV.\n",
      "  warnings.warn(\n"
     ]
    },
    {
     "ename": "NameError",
     "evalue": "name 'cv_results_' is not defined",
     "output_type": "error",
     "traceback": [
      "\u001b[0;31m---------------------------------------------------------------------------\u001b[0m",
      "\u001b[0;31mNameError\u001b[0m                                 Traceback (most recent call last)",
      "\u001b[0;32m<ipython-input-21-831ec285b015>\u001b[0m in \u001b[0;36m<module>\u001b[0;34m\u001b[0m\n\u001b[1;32m     20\u001b[0m \u001b[0mf\u001b[0m\u001b[0;34m.\u001b[0m\u001b[0mwrite\u001b[0m\u001b[0;34m(\u001b[0m\u001b[0mstr\u001b[0m\u001b[0;34m(\u001b[0m\u001b[0mgrid_search\u001b[0m\u001b[0;34m.\u001b[0m\u001b[0mbest_params_\u001b[0m\u001b[0;34m)\u001b[0m\u001b[0;34m)\u001b[0m\u001b[0;34m\u001b[0m\u001b[0;34m\u001b[0m\u001b[0m\n\u001b[1;32m     21\u001b[0m \u001b[0mf\u001b[0m\u001b[0;34m.\u001b[0m\u001b[0mclose\u001b[0m\u001b[0;34m(\u001b[0m\u001b[0;34m)\u001b[0m\u001b[0;34m\u001b[0m\u001b[0;34m\u001b[0m\u001b[0m\n\u001b[0;32m---> 22\u001b[0;31m \u001b[0mdf\u001b[0m \u001b[0;34m=\u001b[0m \u001b[0mpd\u001b[0m\u001b[0;34m.\u001b[0m\u001b[0mDataFrame\u001b[0m\u001b[0;34m(\u001b[0m\u001b[0mcv_results_\u001b[0m\u001b[0;34m)\u001b[0m\u001b[0;34m\u001b[0m\u001b[0;34m\u001b[0m\u001b[0m\n\u001b[0m\u001b[1;32m     23\u001b[0m \u001b[0mdf\u001b[0m\u001b[0;34m.\u001b[0m\u001b[0mto_csv\u001b[0m\u001b[0;34m(\u001b[0m\u001b[0;34m\"GB_reg_param.csv\"\u001b[0m\u001b[0;34m)\u001b[0m\u001b[0;34m\u001b[0m\u001b[0;34m\u001b[0m\u001b[0m\n",
      "\u001b[0;31mNameError\u001b[0m: name 'cv_results_' is not defined"
     ]
    }
   ],
   "source": [
    "param_grid = [\n",
    "   {\n",
    "    'n_estimators':[32, 64, 100,500,1000,2000],\n",
    "      'learning_rate':[1, 0.5, 0.25,0.01,.1],\n",
    "    'max_depth':np.linspace(1, 32, 32, endpoint=True),\n",
    "      'subsample':[.5,.75,1],\n",
    "       'random_state':[1],\n",
    "      'max_features': [1, 5, 10, 25, 50, 100],\n",
    "       'min_samples_splits' : np.linspace(0.1, 1.0, 10, endpoint=True),\n",
    "       'min_samples_leafs' :np.linspace(0.1, 0.5, 5, endpoint=True)\n",
    "    }\n",
    "]\n",
    "\n",
    "GB_reg = GradientBoostingRegressor()\n",
    "grid_search = RandomizedSearchCV(GB_reg, param_grid , cv = 5,\n",
    "                                scoring='neg_mean_squared_error', n_iter=5,\n",
    "                                n_jobs=-1)\n",
    "grid_search.fit(X_train, y_train)\n",
    "f = open(\"best_params.txt\", \"w\")\n",
    "f.write(str(grid_search.best_params_))\n",
    "f.close()\n",
    "df = pd.DataFrame(grid_search.cv_results_)\n",
    "df.to_csv(\"GB_reg_param.csv\")"
   ]
  },
  {
   "cell_type": "code",
   "execution_count": 21,
   "id": "existing-selection",
   "metadata": {},
   "outputs": [
    {
     "data": {
      "text/plain": [
       "GradientBoostingRegressor(max_depth=14.0, max_features=25, n_estimators=1000,\n",
       "                          random_state=1, subsample=1)"
      ]
     },
     "execution_count": 21,
     "metadata": {},
     "output_type": "execute_result"
    }
   ],
   "source": [
    "start_time = time.time()\n",
    "GB_reg = GradientBoostingRegressor(subsample = 1, random_state= 1, n_estimators= 1000, max_features =25, max_depth= 14.0, learning_rate=0.1)\n",
    "GB_reg.fit(X_train, y_train)"
   ]
  },
  {
   "cell_type": "code",
   "execution_count": 22,
   "id": "sharp-imagination",
   "metadata": {},
   "outputs": [
    {
     "name": "stdout",
     "output_type": "stream",
     "text": [
      "Scores: [4.80294415 4.90696329 4.85579024 4.86811137 4.88958325 4.96707499\n",
      " 4.93197174 4.92090226 4.97191295 4.92769818]\n",
      "Mean: 4.904295244105\n",
      "stdv: 0.049254993150098535\n"
     ]
    }
   ],
   "source": [
    "from sklearn.model_selection import cross_val_score\n",
    "start_time = time.time()\n",
    "score = cross_val_score(GB_reg, X_train, y_train,\n",
    "                         scoring='neg_mean_absolute_error', cv=10, n_jobs=-1)\n",
    "GB_mae_scores = -score\n",
    "display_scores(GB_mae_scores)"
   ]
  },
  {
   "cell_type": "code",
   "execution_count": 23,
   "id": "sporting-orchestra",
   "metadata": {},
   "outputs": [
    {
     "data": {
      "text/plain": [
       "0.9184954569816614"
      ]
     },
     "execution_count": 23,
     "metadata": {},
     "output_type": "execute_result"
    }
   ],
   "source": [
    "from sklearn.metrics import r2_score\n",
    "r2_score(y_test, GB_reg.predict(X_test))"
   ]
  },
  {
   "cell_type": "code",
   "execution_count": 24,
   "id": "hundred-anniversary",
   "metadata": {},
   "outputs": [
    {
     "data": {
      "image/png": "[encoded data removed]",
      "text/plain": [
       "<Figure size 1440x360 with 1 Axes>"
      ]
     },
     "metadata": {},
     "output_type": "display_data"
    }
   ],
   "source": [
    "varimp = []\n",
    "for name, score in zip(X.columns, GB_reg.feature_importances_):\n",
    "    if score >= 0.01:\n",
    "        varimp.append((name, score))\n",
    "\n",
    "varimpdf = pd.DataFrame(varimp)\n",
    "\n",
    "d = {'Factor': varimpdf[0], 'Relative Importance': varimpdf[1]}\n",
    "varimps = pd.DataFrame(data=d)\n",
    "\n",
    "plt.figure(figsize=(20,5))\n",
    "plt.title(\"Feature Importances for GradientBoostingRegressor Model\")\n",
    "sns.barplot(x = varimps.Factor, y=varimps['Relative Importance'], palette='Paired');"
   ]
  },
  {
   "cell_type": "code",
   "execution_count": 25,
   "id": "stuffed-definition",
   "metadata": {},
   "outputs": [
    {
     "data": {
      "image/png": "[encoded data removed]",
      "text/plain": [
       "<Figure size 576x396 with 1 Axes>"
      ]
     },
     "metadata": {},
     "output_type": "display_data"
    },
    {
     "data": {
      "text/plain": [
       "<matplotlib.axes._subplots.AxesSubplot at 0x7f56d8b83d90>"
      ]
     },
     "execution_count": 25,
     "metadata": {},
     "output_type": "execute_result"
    }
   ],
   "source": [
    "GB_reg = GradientBoostingRegressor(subsample = 1, random_state= 1, n_estimators= 1000, max_features =25, max_depth= 14.0, learning_rate=0.1)\n",
    "visualizer = PredictionError(GB_reg)\n",
    "\n",
    "visualizer.fit(X_train, y_train)  \n",
    "visualizer.score(X_test, y_test)  # Evaluate the model on the test data\n",
    "visualizer.show()"
   ]
  },
  {
   "cell_type": "code",
   "execution_count": null,
   "id": "hollow-blocking",
   "metadata": {},
   "outputs": [],
   "source": []
  }
 ],
 "metadata": {
  "kernelspec": {
   "display_name": "Python (matsci_winter)\n",
   "language": "python",
   "name": "matsci_winter"
  },
  "language_info": {
   "codemirror_mode": {
    "name": "ipython",
    "version": 3
   },
   "file_extension": ".py",
   "mimetype": "text/x-python",
   "name": "python",
   "nbconvert_exporter": "python",
   "pygments_lexer": "ipython3",
   "version": "3.7.5"
  }
 },
 "nbformat": 4,
 "nbformat_minor": 5
}
